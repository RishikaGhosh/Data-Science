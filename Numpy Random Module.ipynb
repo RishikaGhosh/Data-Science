{
 "cells": [
  {
   "cell_type": "markdown",
   "id": "23d59d34",
   "metadata": {},
   "source": [
    "Numpy Random Module\n",
    "* rand: Random Values in a given Shape\n",
    "* randn: Return a sample from the \"standard normal\" distribution\n",
    "* randint: Return random integers from low(inclusive) to high(exclusive)\n",
    "* random: Return random floats in the half-open interval[0.0, 1,)\n",
    "* choice: Generates a random sample from a given 1d array\n",
    "* shuffle: Suffles the contents of a sequence"
   ]
  },
  {
   "cell_type": "code",
   "execution_count": 3,
   "id": "3e42704f",
   "metadata": {},
   "outputs": [],
   "source": [
    "import numpy as np"
   ]
  },
  {
   "cell_type": "code",
   "execution_count": 4,
   "id": "1a2ddca2",
   "metadata": {},
   "outputs": [
    {
     "name": "stdout",
     "output_type": "stream",
     "text": [
      "[0 1 2 3 4 5 6 7 8 9]\n"
     ]
    }
   ],
   "source": [
    "a=np.arange(10)\n",
    "print(a)"
   ]
  },
  {
   "cell_type": "code",
   "execution_count": 6,
   "id": "2a896d92",
   "metadata": {},
   "outputs": [
    {
     "name": "stdout",
     "output_type": "stream",
     "text": [
      "[ 5  6  7  8  9 10 11 12 13 14]\n"
     ]
    }
   ],
   "source": [
    "a=np.arange(10) + 5\n",
    "print(a)"
   ]
  },
  {
   "cell_type": "code",
   "execution_count": 7,
   "id": "1631ab63",
   "metadata": {},
   "outputs": [
    {
     "name": "stdout",
     "output_type": "stream",
     "text": [
      "[13 10  5 12 11  8 14  7  9  6]\n"
     ]
    }
   ],
   "source": [
    "np.random.shuffle(a) #shuffles array in random order\n",
    "print(a)"
   ]
  },
  {
   "cell_type": "code",
   "execution_count": 11,
   "id": "4d5a247a",
   "metadata": {},
   "outputs": [
    {
     "name": "stdout",
     "output_type": "stream",
     "text": [
      "[[0.49102526 0.35059813 0.80538337]\n",
      " [0.37499737 0.87393155 0.30933799]]\n",
      "[5 8 7]\n"
     ]
    }
   ],
   "source": [
    "# generate array of random nos\n",
    "#returns values from a standard normal distribution\n",
    "a=np.random.rand(2,3)\n",
    "print(a)\n",
    "\n",
    "a=np.random.randint(5,10,3) #\n",
    "print(a)"
   ]
  },
  {
   "cell_type": "code",
   "execution_count": 13,
   "id": "7a189523",
   "metadata": {},
   "outputs": [
    {
     "name": "stdout",
     "output_type": "stream",
     "text": [
      "3\n"
     ]
    }
   ],
   "source": [
    "#randomly pick one element from an array\n",
    "\n",
    "element=np.random.choice([1,4,3,2])\n",
    "print(element)"
   ]
  },
  {
   "cell_type": "code",
   "execution_count": null,
   "id": "e6399967",
   "metadata": {},
   "outputs": [],
   "source": [
    "#if we want our random nos to be generated in the same order, we have to set a seed\n",
    "a=np.arange(10)\n",
    "np.random.seed(1)\n",
    "print(a)"
   ]
  }
 ],
 "metadata": {
  "kernelspec": {
   "display_name": "Python 3",
   "language": "python",
   "name": "python3"
  },
  "language_info": {
   "codemirror_mode": {
    "name": "ipython",
    "version": 3
   },
   "file_extension": ".py",
   "mimetype": "text/x-python",
   "name": "python",
   "nbconvert_exporter": "python",
   "pygments_lexer": "ipython3",
   "version": "3.8.5"
  }
 },
 "nbformat": 4,
 "nbformat_minor": 5
}
