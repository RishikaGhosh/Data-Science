{
 "cells": [
  {
   "cell_type": "code",
   "execution_count": 1,
   "id": "000e6f59",
   "metadata": {},
   "outputs": [],
   "source": [
    "from selenium import webdriver"
   ]
  },
  {
   "cell_type": "code",
   "execution_count": 13,
   "id": "c0ebbe78",
   "metadata": {},
   "outputs": [
    {
     "name": "stdout",
     "output_type": "stream",
     "text": [
      "Collecting webdriver-manager\n",
      "  Downloading webdriver_manager-3.4.2-py2.py3-none-any.whl (16 kB)\n",
      "Collecting crayons\n",
      "  Downloading crayons-0.4.0-py2.py3-none-any.whl (4.6 kB)\n",
      "Requirement already satisfied: requests in c:\\users\\ghosh\\appdata\\local\\programs\\python\\python38-32\\lib\\site-packages (from webdriver-manager) (2.25.1)\n",
      "Collecting configparser\n",
      "  Downloading configparser-5.0.2-py3-none-any.whl (19 kB)\n",
      "Requirement already satisfied: colorama in c:\\users\\ghosh\\appdata\\local\\programs\\python\\python38-32\\lib\\site-packages (from crayons->webdriver-manager) (0.4.4)\n",
      "Requirement already satisfied: urllib3<1.27,>=1.21.1 in c:\\users\\ghosh\\appdata\\local\\programs\\python\\python38-32\\lib\\site-packages (from requests->webdriver-manager) (1.26.4)\n",
      "Requirement already satisfied: certifi>=2017.4.17 in c:\\users\\ghosh\\appdata\\local\\programs\\python\\python38-32\\lib\\site-packages (from requests->webdriver-manager) (2020.12.5)\n",
      "Requirement already satisfied: idna<3,>=2.5 in c:\\users\\ghosh\\appdata\\local\\programs\\python\\python38-32\\lib\\site-packages (from requests->webdriver-manager) (2.10)\n",
      "Requirement already satisfied: chardet<5,>=3.0.2 in c:\\users\\ghosh\\appdata\\local\\programs\\python\\python38-32\\lib\\site-packages (from requests->webdriver-manager) (4.0.0)\n",
      "Installing collected packages: crayons, configparser, webdriver-manager\n",
      "Successfully installed configparser-5.0.2 crayons-0.4.0 webdriver-manager-3.4.2\n"
     ]
    }
   ],
   "source": [
    "!pip install webdriver-manager"
   ]
  },
  {
   "cell_type": "code",
   "execution_count": 16,
   "id": "5d09ea57",
   "metadata": {},
   "outputs": [],
   "source": [
    "from selenium import webdriver"
   ]
  },
  {
   "cell_type": "code",
   "execution_count": 17,
   "id": "28a44112",
   "metadata": {},
   "outputs": [],
   "source": [
    "from webdriver_manager.chrome import ChromeDriverManager"
   ]
  },
  {
   "cell_type": "code",
   "execution_count": 18,
   "id": "4dd8028d",
   "metadata": {},
   "outputs": [
    {
     "name": "stderr",
     "output_type": "stream",
     "text": [
      "\n",
      "\n",
      "====== WebDriver manager ======\n",
      "Current google-chrome version is 91.0.4472\n",
      "Get LATEST driver version for 91.0.4472\n",
      "There is no [win32] chromedriver for browser 91.0.4472 in cache\n",
      "Get LATEST driver version for 91.0.4472\n",
      "Trying to download new driver from https://chromedriver.storage.googleapis.com/91.0.4472.19/chromedriver_win32.zip\n",
      "Driver has been saved in cache [C:\\Users\\ghosh\\.wdm\\drivers\\chromedriver\\win32\\91.0.4472.19]\n"
     ]
    }
   ],
   "source": [
    "driver = webdriver.Chrome(ChromeDriverManager().install()) # diver"
   ]
  },
  {
   "cell_type": "code",
   "execution_count": 23,
   "id": "f09fdf3d",
   "metadata": {},
   "outputs": [],
   "source": [
    "driver.get(\"https://codechef.com\")"
   ]
  },
  {
   "cell_type": "code",
   "execution_count": 43,
   "id": "a7780ae3",
   "metadata": {},
   "outputs": [],
   "source": [
    "user=driver.find_element_by_id(\"edit-name\")"
   ]
  },
  {
   "cell_type": "code",
   "execution_count": 44,
   "id": "9e509936",
   "metadata": {},
   "outputs": [],
   "source": [
    "user.send_keys(\"#enter username\")"
   ]
  },
  {
   "cell_type": "code",
   "execution_count": 45,
   "id": "7c025bda",
   "metadata": {},
   "outputs": [],
   "source": [
    "password=driver.find_element_by_id(\"edit-pass\")"
   ]
  },
  {
   "cell_type": "code",
   "execution_count": 46,
   "id": "ded32a2e",
   "metadata": {},
   "outputs": [],
   "source": [
    "password.send_keys(\"#enter password\")"
   ]
  },
  {
   "cell_type": "code",
   "execution_count": 47,
   "id": "59c4c82b",
   "metadata": {},
   "outputs": [],
   "source": [
    "driver.find_element_by_id(\"edit-submit\").click()"
   ]
  },
  {
   "cell_type": "code",
   "execution_count": 48,
   "id": "ea54aea6",
   "metadata": {},
   "outputs": [],
   "source": [
    "driver.get(\"https://codechef.com/problems/TEST\")"
   ]
  },
  {
   "cell_type": "code",
   "execution_count": 49,
   "id": "e52fc9a9",
   "metadata": {},
   "outputs": [],
   "source": [
    "driver.get(\"https://codechef.com/submit/TEST\")"
   ]
  },
  {
   "cell_type": "code",
   "execution_count": 80,
   "id": "a9f92f5e",
   "metadata": {},
   "outputs": [],
   "source": [
    "with open(r\"C:\\Users\\ghosh\\Downloads\\solution.cpp\",\"r\") as f:\n",
    "    code=f.read()"
   ]
  },
  {
   "cell_type": "code",
   "execution_count": 81,
   "id": "95567649",
   "metadata": {},
   "outputs": [
    {
     "data": {
      "text/plain": [
       "'#include <iostream>\\nusing namespace std;\\n\\nint main() {\\n\\tint n;\\n\\twhile(true) {\\n\\t    cin >> n;\\n\\t    if(n == 42)\\n\\t    break;\\n\\t    cout << n << endl;\\n\\t}\\n\\treturn 0;\\n}'"
      ]
     },
     "execution_count": 81,
     "metadata": {},
     "output_type": "execute_result"
    }
   ],
   "source": [
    "code"
   ]
  },
  {
   "cell_type": "code",
   "execution_count": 82,
   "id": "d62c524b",
   "metadata": {},
   "outputs": [],
   "source": [
    "code_element=driver.find_element_by_id('edit-program')"
   ]
  },
  {
   "cell_type": "code",
   "execution_count": 83,
   "id": "f3221019",
   "metadata": {},
   "outputs": [],
   "source": [
    "code_element.send_keys(code)"
   ]
  },
  {
   "cell_type": "code",
   "execution_count": 84,
   "id": "6678abac",
   "metadata": {},
   "outputs": [],
   "source": [
    "driver.find_element_by_id(\"edit-submit-1\").click()"
   ]
  },
  {
   "cell_type": "code",
   "execution_count": null,
   "id": "1d4899e0",
   "metadata": {},
   "outputs": [],
   "source": []
  }
 ],
 "metadata": {
  "kernelspec": {
   "display_name": "Python 3",
   "language": "python",
   "name": "python3"
  },
  "language_info": {
   "codemirror_mode": {
    "name": "ipython",
    "version": 3
   },
   "file_extension": ".py",
   "mimetype": "text/x-python",
   "name": "python",
   "nbconvert_exporter": "python",
   "pygments_lexer": "ipython3",
   "version": "3.8.5"
  }
 },
 "nbformat": 4,
 "nbformat_minor": 5
}
