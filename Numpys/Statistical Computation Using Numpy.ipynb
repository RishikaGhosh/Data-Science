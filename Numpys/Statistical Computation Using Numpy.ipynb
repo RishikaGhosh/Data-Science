{
 "cells": [
  {
   "cell_type": "markdown",
   "id": "1dbb0de3",
   "metadata": {},
   "source": [
    "Statistical Computation Using Numpy\n",
    "* min,max\n",
    "* mean\n",
    "* median\n",
    "* average\n",
    "* variance\n",
    "* standard deviation"
   ]
  },
  {
   "cell_type": "code",
   "execution_count": 2,
   "id": "86493adf",
   "metadata": {},
   "outputs": [
    {
     "name": "stdout",
     "output_type": "stream",
     "text": [
      "[[1 2 3 4]\n",
      " [7 6 2 0]]\n"
     ]
    }
   ],
   "source": [
    "import numpy as np\n",
    "a= np.array([[1,2,3,4],[7,6,2,0]])\n",
    "print(a)"
   ]
  },
  {
   "cell_type": "code",
   "execution_count": 3,
   "id": "b4167eea",
   "metadata": {},
   "outputs": [
    {
     "name": "stdout",
     "output_type": "stream",
     "text": [
      "0\n"
     ]
    }
   ],
   "source": [
    "print(np.min(a)) #min in the entire array"
   ]
  },
  {
   "cell_type": "code",
   "execution_count": 6,
   "id": "dada6649",
   "metadata": {},
   "outputs": [
    {
     "name": "stdout",
     "output_type": "stream",
     "text": [
      "[1 2 2 0]\n",
      "[1 0]\n"
     ]
    }
   ],
   "source": [
    "# min along each axis\n",
    "print(np.min(a,axis=0)) # along each column\n",
    "print(np.min(a,axis=1))# along each row"
   ]
  },
  {
   "cell_type": "code",
   "execution_count": 8,
   "id": "3f56f4f0",
   "metadata": {},
   "outputs": [
    {
     "name": "stdout",
     "output_type": "stream",
     "text": [
      "3.0\n",
      "3.0\n"
     ]
    }
   ],
   "source": [
    "#Mean, average of all elements\n",
    "b=np.array([1,2,3,4,5])\n",
    "m=sum(b)/5\n",
    "print(m)\n",
    "\n",
    "print(np.mean(b))"
   ]
  },
  {
   "cell_type": "code",
   "execution_count": 10,
   "id": "2f84ce4c",
   "metadata": {},
   "outputs": [
    {
     "name": "stdout",
     "output_type": "stream",
     "text": [
      "[4.  4.  2.5 2. ]\n",
      "[2.5  3.75]\n"
     ]
    }
   ],
   "source": [
    "print(np.mean(a,axis=0))\n",
    "print(np.mean(a,axis=1))"
   ]
  },
  {
   "cell_type": "code",
   "execution_count": 11,
   "id": "a9f17be5",
   "metadata": {},
   "outputs": [
    {
     "name": "stdout",
     "output_type": "stream",
     "text": [
      "2.0\n"
     ]
    }
   ],
   "source": [
    "#Median\n",
    "c=np.array([1,5,2,4,0])\n",
    "print(np.median(c))"
   ]
  },
  {
   "cell_type": "code",
   "execution_count": 12,
   "id": "4677c820",
   "metadata": {},
   "outputs": [
    {
     "name": "stdout",
     "output_type": "stream",
     "text": [
      "[5 6 7]\n",
      "0.816496580927726\n"
     ]
    }
   ],
   "source": [
    "#Standard Deviation-Standard deviation is the square root of the average of square deviations from mean\n",
    "a = np.array([5,6,7]) \n",
    "print(a)\n",
    "print(np.std(a))"
   ]
  },
  {
   "cell_type": "code",
   "execution_count": 13,
   "id": "27ab872c",
   "metadata": {},
   "outputs": [
    {
     "name": "stdout",
     "output_type": "stream",
     "text": [
      "[5 6 7]\n",
      "0.6666666666666666\n"
     ]
    }
   ],
   "source": [
    "#Variance-Variance is the average of the square deviations.\n",
    "a = np.array([5,6,7]) \n",
    "print(a)\n",
    "print(np.var(a))"
   ]
  },
  {
   "cell_type": "markdown",
   "id": "205fabc8",
   "metadata": {},
   "source": [
    "NumPy Average Function\n",
    "NumPy np.average() function determines the weighted average along with the multi-dimensional arrays. The weighted average is calculated by multiplying the component by its weight, the weights are specified separately. If weights are not specified it produces the same output as mean."
   ]
  },
  {
   "cell_type": "code",
   "execution_count": 14,
   "id": "93ceb7dd",
   "metadata": {},
   "outputs": [
    {
     "name": "stdout",
     "output_type": "stream",
     "text": [
      "[5 6 7]\n",
      "6.0\n",
      "5.615384615384615\n"
     ]
    }
   ],
   "source": [
    "#Average\n",
    "a = np.array([5,6,7]) \n",
    "print(a)\n",
    "#without weight same as mean\n",
    "print(np.average(a))\n",
    "#with weight gives weighted average\n",
    "wt = np.array([8,2,3])\n",
    "print(np.average(a, weights=wt))"
   ]
  },
  {
   "cell_type": "code",
   "execution_count": 16,
   "id": "4616d043",
   "metadata": {},
   "outputs": [
    {
     "name": "stdout",
     "output_type": "stream",
     "text": [
      "[ 2 10 20]\n",
      "3.6\n"
     ]
    }
   ],
   "source": [
    "#NumPy Percentile Function\n",
    "a = np.array([2,10,20])  \n",
    "print(a)  \n",
    "print(np.percentile(a,10,0))"
   ]
  },
  {
   "cell_type": "code",
   "execution_count": 17,
   "id": "18abde88",
   "metadata": {},
   "outputs": [
    {
     "name": "stdout",
     "output_type": "stream",
     "text": [
      "[ 4  0 40]\n"
     ]
    }
   ],
   "source": [
    "#NumPy Peak-to-Peak Function\n",
    "#useful to determine the range of values along an axis.\n",
    "a = np.array([[2,10,20],[6,10,60]])  \n",
    "print(np.ptp(a,0))"
   ]
  },
  {
   "cell_type": "code",
   "execution_count": null,
   "id": "8e0f5b3e",
   "metadata": {},
   "outputs": [],
   "source": []
  }
 ],
 "metadata": {
  "kernelspec": {
   "display_name": "Python 3",
   "language": "python",
   "name": "python3"
  },
  "language_info": {
   "codemirror_mode": {
    "name": "ipython",
    "version": 3
   },
   "file_extension": ".py",
   "mimetype": "text/x-python",
   "name": "python",
   "nbconvert_exporter": "python",
   "pygments_lexer": "ipython3",
   "version": "3.8.5"
  }
 },
 "nbformat": 4,
 "nbformat_minor": 5
}
